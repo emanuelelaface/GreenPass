{
 "cells": [
  {
   "cell_type": "code",
   "execution_count": 1,
   "id": "060649db",
   "metadata": {},
   "outputs": [],
   "source": [
    "import json\n",
    "import gzip\n",
    "import requests\n",
    "from base64 import b64decode\n",
    "\n",
    "from cryptography.utils import int_to_bytes\n",
    "from cryptography.hazmat.primitives.asymmetric.ec import EllipticCurvePublicKey\n",
    "from cryptography.hazmat.primitives.asymmetric.rsa import RSAPublicKey\n",
    "from cryptography.hazmat.primitives import serialization\n",
    "\n",
    "DEFAULT_TRUST_URL = 'https://verifier-api.coronacheck.nl/v4/verifier/public_keys'\n",
    "DEFAULT_TRUST_UK_URL = 'https://covid-status.service.nhsx.nhs.uk/pubkeys/keys.json'"
   ]
  },
  {
   "cell_type": "code",
   "execution_count": 44,
   "id": "e9c29ef3",
   "metadata": {},
   "outputs": [],
   "source": [
    "url = DEFAULT_TRUST_URL\n",
    "response = requests.get(url)\n",
    "pkg = response.json()\n",
    "payload = b64decode(pkg['payload'])\n",
    "trustlist = json.loads(payload)\n",
    "eulist = trustlist['eu_keys']\n",
    "RSAID = '7AfAwcpWOv0='\n",
    "ECID = 'hA1+pwEOxCI='"
   ]
  },
  {
   "cell_type": "code",
   "execution_count": 43,
   "id": "60e1bef7",
   "metadata": {},
   "outputs": [
    {
     "name": "stdout",
     "output_type": "stream",
     "text": [
      "hA1+pwEOxCI=\n"
     ]
    }
   ],
   "source": [
    "asn1data = b64decode(eulist[kid][0]['subjectPk'])\n",
    "pub = serialization.load_der_public_key(asn1data)"
   ]
  },
  {
   "cell_type": "code",
   "execution_count": 42,
   "id": "b2ab479a",
   "metadata": {},
   "outputs": [
    {
     "data": {
      "text/plain": [
       "<cryptography.hazmat.backends.openssl.rsa._RSAPublicKey at 0x7fe5d51a08b0>"
      ]
     },
     "execution_count": 42,
     "metadata": {},
     "output_type": "execute_result"
    }
   ],
   "source": [
    "pub"
   ]
  },
  {
   "cell_type": "code",
   "execution_count": 45,
   "id": "bcf09460",
   "metadata": {},
   "outputs": [
    {
     "data": {
      "text/plain": [
       "<cryptography.hazmat.backends.openssl.ec._EllipticCurvePublicKey at 0x7fe5d53c5610>"
      ]
     },
     "execution_count": 45,
     "metadata": {},
     "output_type": "execute_result"
    }
   ],
   "source": [
    "pub"
   ]
  },
  {
   "cell_type": "code",
   "execution_count": null,
   "id": "e75f3663",
   "metadata": {},
   "outputs": [],
   "source": []
  }
 ],
 "metadata": {
  "kernelspec": {
   "display_name": "Python 3",
   "language": "python",
   "name": "python3"
  },
  "language_info": {
   "codemirror_mode": {
    "name": "ipython",
    "version": 3
   },
   "file_extension": ".py",
   "mimetype": "text/x-python",
   "name": "python",
   "nbconvert_exporter": "python",
   "pygments_lexer": "ipython3",
   "version": "3.8.6"
  }
 },
 "nbformat": 4,
 "nbformat_minor": 5
}
